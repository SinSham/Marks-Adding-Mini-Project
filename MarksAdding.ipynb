{
  "nbformat": 4,
  "nbformat_minor": 0,
  "metadata": {
    "colab": {
      "provenance": [],
      "authorship_tag": "ABX9TyOwqdXbIF2aukE+XNXPzheT",
      "include_colab_link": true
    },
    "kernelspec": {
      "name": "python3",
      "display_name": "Python 3"
    },
    "language_info": {
      "name": "python"
    }
  },
  "cells": [
    {
      "cell_type": "markdown",
      "metadata": {
        "id": "view-in-github",
        "colab_type": "text"
      },
      "source": [
        "<a href=\"https://colab.research.google.com/github/SinSham/Marks-Adding-Mini-Project/blob/main/MarksAdding.ipynb\" target=\"_parent\"><img src=\"https://colab.research.google.com/assets/colab-badge.svg\" alt=\"Open In Colab\"/></a>"
      ]
    },
    {
      "cell_type": "code",
      "execution_count": 15,
      "metadata": {
        "id": "NJPQ31OKs_8g"
      },
      "outputs": [],
      "source": [
        "import pandas as pd\n",
        "\n",
        "df = pd.read_csv(\"/content/Mini Project - Marks Adding.csv\")\n",
        "\n",
        "df['Total Marks'] = df.groupby('Roll Num')['Marks'].transform('sum')\n",
        "\n",
        "df['Marks'] = df['Total Marks']\n",
        "\n",
        "output_df = df[['Roll Num', 'Marks']]\n",
        "\n",
        "output_df.to_csv('marks_added.csv', index = False)\n"
      ]
    }
  ]
}